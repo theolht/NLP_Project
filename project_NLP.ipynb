{
  "nbformat": 4,
  "nbformat_minor": 0,
  "metadata": {
    "colab": {
      "name": "project_NLP.ipynb",
      "provenance": [],
      "authorship_tag": "ABX9TyNH/B/Zda8+F1SLSwb9f4Dp",
      "include_colab_link": true
    },
    "kernelspec": {
      "name": "python3",
      "display_name": "Python 3"
    }
  },
  "cells": [
    {
      "cell_type": "markdown",
      "metadata": {
        "id": "view-in-github",
        "colab_type": "text"
      },
      "source": [
        "<a href=\"https://colab.research.google.com/github/theolht/NLP_Project/blob/main/project_NLP.ipynb\" target=\"_parent\"><img src=\"https://colab.research.google.com/assets/colab-badge.svg\" alt=\"Open In Colab\"/></a>"
      ]
    },
    {
      "cell_type": "code",
      "metadata": {
        "id": "sRZsh90qzORs",
        "outputId": "fc5c54fe-3fed-44db-b7f5-6864324a87d8",
        "colab": {
          "base_uri": "https://localhost:8080/"
        }
      },
      "source": [
        "import pandas as pd\r\n",
        "import nltk\r\n",
        "from nltk.tokenize import word_tokenize\r\n",
        "\r\n",
        "nltk.download('punkt')"
      ],
      "execution_count": 60,
      "outputs": [
        {
          "output_type": "stream",
          "text": [
            "[nltk_data] Downloading package punkt to /root/nltk_data...\n",
            "[nltk_data]   Package punkt is already up-to-date!\n"
          ],
          "name": "stdout"
        },
        {
          "output_type": "execute_result",
          "data": {
            "text/plain": [
              "True"
            ]
          },
          "metadata": {
            "tags": []
          },
          "execution_count": 60
        }
      ]
    },
    {
      "cell_type": "code",
      "metadata": {
        "id": "R9uX8iyVvPLB",
        "outputId": "23c79b95-f227-4e53-eaac-5563f156eb0a",
        "colab": {
          "base_uri": "https://localhost:8080/"
        }
      },
      "source": [
        "from google.colab import drive\r\n",
        "drive.mount('/content/gdrive/')"
      ],
      "execution_count": 61,
      "outputs": [
        {
          "output_type": "stream",
          "text": [
            "Drive already mounted at /content/gdrive/; to attempt to forcibly remount, call drive.mount(\"/content/gdrive/\", force_remount=True).\n"
          ],
          "name": "stdout"
        }
      ]
    },
    {
      "cell_type": "code",
      "metadata": {
        "id": "w4UmFBmzynCS"
      },
      "source": [
        "df = pd.read_csv (r'gdrive/MyDrive/NLP_Project/training.1600000.processed.noemoticon.csv', encoding='latin-1')"
      ],
      "execution_count": 85,
      "outputs": []
    },
    {
      "cell_type": "code",
      "metadata": {
        "id": "qHUAdLQG3oxw",
        "outputId": "2397d5c5-ca2d-41c6-bf0a-fa985828ec26",
        "colab": {
          "base_uri": "https://localhost:8080/",
          "height": 402
        }
      },
      "source": [
        "data = df.copy()\r\n",
        "data.columns = ['target', 'id_tweet', 'date', 'flag', 'user', 'comment']\r\n",
        "del data['flag']\r\n",
        "\r\n",
        "data = data.head(10000)\r\n",
        "data"
      ],
      "execution_count": 88,
      "outputs": [
        {
          "output_type": "execute_result",
          "data": {
            "text/html": [
              "<div>\n",
              "<style scoped>\n",
              "    .dataframe tbody tr th:only-of-type {\n",
              "        vertical-align: middle;\n",
              "    }\n",
              "\n",
              "    .dataframe tbody tr th {\n",
              "        vertical-align: top;\n",
              "    }\n",
              "\n",
              "    .dataframe thead th {\n",
              "        text-align: right;\n",
              "    }\n",
              "</style>\n",
              "<table border=\"1\" class=\"dataframe\">\n",
              "  <thead>\n",
              "    <tr style=\"text-align: right;\">\n",
              "      <th></th>\n",
              "      <th>target</th>\n",
              "      <th>id_tweet</th>\n",
              "      <th>date</th>\n",
              "      <th>user</th>\n",
              "      <th>comment</th>\n",
              "    </tr>\n",
              "  </thead>\n",
              "  <tbody>\n",
              "    <tr>\n",
              "      <th>0</th>\n",
              "      <td>0</td>\n",
              "      <td>1467810672</td>\n",
              "      <td>Mon Apr 06 22:19:49 PDT 2009</td>\n",
              "      <td>scotthamilton</td>\n",
              "      <td>is upset that he can't update his Facebook by ...</td>\n",
              "    </tr>\n",
              "    <tr>\n",
              "      <th>1</th>\n",
              "      <td>0</td>\n",
              "      <td>1467810917</td>\n",
              "      <td>Mon Apr 06 22:19:53 PDT 2009</td>\n",
              "      <td>mattycus</td>\n",
              "      <td>@Kenichan I dived many times for the ball. Man...</td>\n",
              "    </tr>\n",
              "    <tr>\n",
              "      <th>2</th>\n",
              "      <td>0</td>\n",
              "      <td>1467811184</td>\n",
              "      <td>Mon Apr 06 22:19:57 PDT 2009</td>\n",
              "      <td>ElleCTF</td>\n",
              "      <td>my whole body feels itchy and like its on fire</td>\n",
              "    </tr>\n",
              "    <tr>\n",
              "      <th>3</th>\n",
              "      <td>0</td>\n",
              "      <td>1467811193</td>\n",
              "      <td>Mon Apr 06 22:19:57 PDT 2009</td>\n",
              "      <td>Karoli</td>\n",
              "      <td>@nationwideclass no, it's not behaving at all....</td>\n",
              "    </tr>\n",
              "    <tr>\n",
              "      <th>4</th>\n",
              "      <td>0</td>\n",
              "      <td>1467811372</td>\n",
              "      <td>Mon Apr 06 22:20:00 PDT 2009</td>\n",
              "      <td>joy_wolf</td>\n",
              "      <td>@Kwesidei not the whole crew</td>\n",
              "    </tr>\n",
              "    <tr>\n",
              "      <th>...</th>\n",
              "      <td>...</td>\n",
              "      <td>...</td>\n",
              "      <td>...</td>\n",
              "      <td>...</td>\n",
              "      <td>...</td>\n",
              "    </tr>\n",
              "    <tr>\n",
              "      <th>9995</th>\n",
              "      <td>0</td>\n",
              "      <td>1550730633</td>\n",
              "      <td>Sat Apr 18 07:05:23 PDT 2009</td>\n",
              "      <td>gia_revenge</td>\n",
              "      <td>stupid dvds stuffing up the good bits in jaws.</td>\n",
              "    </tr>\n",
              "    <tr>\n",
              "      <th>9996</th>\n",
              "      <td>0</td>\n",
              "      <td>1550731192</td>\n",
              "      <td>Sat Apr 18 07:05:29 PDT 2009</td>\n",
              "      <td>matmurray</td>\n",
              "      <td>@Dandy_Sephy No. Only close friends and family...</td>\n",
              "    </tr>\n",
              "    <tr>\n",
              "      <th>9997</th>\n",
              "      <td>0</td>\n",
              "      <td>1550731281</td>\n",
              "      <td>Sat Apr 18 07:05:30 PDT 2009</td>\n",
              "      <td>lexabuckets</td>\n",
              "      <td>CRAP! After looking when I last tweeted... WHY...</td>\n",
              "    </tr>\n",
              "    <tr>\n",
              "      <th>9998</th>\n",
              "      <td>0</td>\n",
              "      <td>1550731500</td>\n",
              "      <td>Sat Apr 18 07:05:32 PDT 2009</td>\n",
              "      <td>AmberKarley</td>\n",
              "      <td>Its Another Rainboot day</td>\n",
              "    </tr>\n",
              "    <tr>\n",
              "      <th>9999</th>\n",
              "      <td>0</td>\n",
              "      <td>1550731750</td>\n",
              "      <td>Sat Apr 18 07:05:35 PDT 2009</td>\n",
              "      <td>ARoadRetraveled</td>\n",
              "      <td>I think there's a problem with the ISP in this...</td>\n",
              "    </tr>\n",
              "  </tbody>\n",
              "</table>\n",
              "<p>10000 rows × 5 columns</p>\n",
              "</div>"
            ],
            "text/plain": [
              "      target  ...                                            comment\n",
              "0          0  ...  is upset that he can't update his Facebook by ...\n",
              "1          0  ...  @Kenichan I dived many times for the ball. Man...\n",
              "2          0  ...    my whole body feels itchy and like its on fire \n",
              "3          0  ...  @nationwideclass no, it's not behaving at all....\n",
              "4          0  ...                      @Kwesidei not the whole crew \n",
              "...      ...  ...                                                ...\n",
              "9995       0  ...    stupid dvds stuffing up the good bits in jaws. \n",
              "9996       0  ...  @Dandy_Sephy No. Only close friends and family...\n",
              "9997       0  ...  CRAP! After looking when I last tweeted... WHY...\n",
              "9998       0  ...                          Its Another Rainboot day \n",
              "9999       0  ...  I think there's a problem with the ISP in this...\n",
              "\n",
              "[10000 rows x 5 columns]"
            ]
          },
          "metadata": {
            "tags": []
          },
          "execution_count": 88
        }
      ]
    },
    {
      "cell_type": "code",
      "metadata": {
        "id": "xBcKqExO7SEB",
        "outputId": "c2e52fdf-1569-4247-b77a-1fef05c67dbd",
        "colab": {
          "base_uri": "https://localhost:8080/"
        }
      },
      "source": [
        "for id, comment in data['comment'].items():\r\n",
        "  comment = nltk.word_tokenize(comment)\r\n",
        "  comment = [ ch.lower() for ch in comment if ch.isalpha() or ch == '.']\r\n",
        "  data['comment'][id] = comment"
      ],
      "execution_count": 89,
      "outputs": [
        {
          "output_type": "stream",
          "text": [
            "/usr/local/lib/python3.6/dist-packages/ipykernel_launcher.py:4: SettingWithCopyWarning: \n",
            "A value is trying to be set on a copy of a slice from a DataFrame\n",
            "\n",
            "See the caveats in the documentation: https://pandas.pydata.org/pandas-docs/stable/user_guide/indexing.html#returning-a-view-versus-a-copy\n",
            "  after removing the cwd from sys.path.\n"
          ],
          "name": "stderr"
        }
      ]
    },
    {
      "cell_type": "code",
      "metadata": {
        "id": "xqu0i_JD2nbi",
        "outputId": "869cb2e8-75e1-4d89-a36d-8df0c0b0be51",
        "colab": {
          "base_uri": "https://localhost:8080/",
          "height": 402
        }
      },
      "source": [
        "data"
      ],
      "execution_count": 90,
      "outputs": [
        {
          "output_type": "execute_result",
          "data": {
            "text/html": [
              "<div>\n",
              "<style scoped>\n",
              "    .dataframe tbody tr th:only-of-type {\n",
              "        vertical-align: middle;\n",
              "    }\n",
              "\n",
              "    .dataframe tbody tr th {\n",
              "        vertical-align: top;\n",
              "    }\n",
              "\n",
              "    .dataframe thead th {\n",
              "        text-align: right;\n",
              "    }\n",
              "</style>\n",
              "<table border=\"1\" class=\"dataframe\">\n",
              "  <thead>\n",
              "    <tr style=\"text-align: right;\">\n",
              "      <th></th>\n",
              "      <th>target</th>\n",
              "      <th>id_tweet</th>\n",
              "      <th>date</th>\n",
              "      <th>user</th>\n",
              "      <th>comment</th>\n",
              "    </tr>\n",
              "  </thead>\n",
              "  <tbody>\n",
              "    <tr>\n",
              "      <th>0</th>\n",
              "      <td>0</td>\n",
              "      <td>1467810672</td>\n",
              "      <td>Mon Apr 06 22:19:49 PDT 2009</td>\n",
              "      <td>scotthamilton</td>\n",
              "      <td>[is, upset, that, he, ca, update, his, faceboo...</td>\n",
              "    </tr>\n",
              "    <tr>\n",
              "      <th>1</th>\n",
              "      <td>0</td>\n",
              "      <td>1467810917</td>\n",
              "      <td>Mon Apr 06 22:19:53 PDT 2009</td>\n",
              "      <td>mattycus</td>\n",
              "      <td>[kenichan, i, dived, many, times, for, the, ba...</td>\n",
              "    </tr>\n",
              "    <tr>\n",
              "      <th>2</th>\n",
              "      <td>0</td>\n",
              "      <td>1467811184</td>\n",
              "      <td>Mon Apr 06 22:19:57 PDT 2009</td>\n",
              "      <td>ElleCTF</td>\n",
              "      <td>[my, whole, body, feels, itchy, and, like, its...</td>\n",
              "    </tr>\n",
              "    <tr>\n",
              "      <th>3</th>\n",
              "      <td>0</td>\n",
              "      <td>1467811193</td>\n",
              "      <td>Mon Apr 06 22:19:57 PDT 2009</td>\n",
              "      <td>Karoli</td>\n",
              "      <td>[nationwideclass, no, it, not, behaving, at, a...</td>\n",
              "    </tr>\n",
              "    <tr>\n",
              "      <th>4</th>\n",
              "      <td>0</td>\n",
              "      <td>1467811372</td>\n",
              "      <td>Mon Apr 06 22:20:00 PDT 2009</td>\n",
              "      <td>joy_wolf</td>\n",
              "      <td>[kwesidei, not, the, whole, crew]</td>\n",
              "    </tr>\n",
              "    <tr>\n",
              "      <th>...</th>\n",
              "      <td>...</td>\n",
              "      <td>...</td>\n",
              "      <td>...</td>\n",
              "      <td>...</td>\n",
              "      <td>...</td>\n",
              "    </tr>\n",
              "    <tr>\n",
              "      <th>9995</th>\n",
              "      <td>0</td>\n",
              "      <td>1550730633</td>\n",
              "      <td>Sat Apr 18 07:05:23 PDT 2009</td>\n",
              "      <td>gia_revenge</td>\n",
              "      <td>[stupid, dvds, stuffing, up, the, good, bits, ...</td>\n",
              "    </tr>\n",
              "    <tr>\n",
              "      <th>9996</th>\n",
              "      <td>0</td>\n",
              "      <td>1550731192</td>\n",
              "      <td>Sat Apr 18 07:05:29 PDT 2009</td>\n",
              "      <td>matmurray</td>\n",
              "      <td>[no, ., only, close, friends, and, family, i, ...</td>\n",
              "    </tr>\n",
              "    <tr>\n",
              "      <th>9997</th>\n",
              "      <td>0</td>\n",
              "      <td>1550731281</td>\n",
              "      <td>Sat Apr 18 07:05:30 PDT 2009</td>\n",
              "      <td>lexabuckets</td>\n",
              "      <td>[crap, after, looking, when, i, last, tweeted,...</td>\n",
              "    </tr>\n",
              "    <tr>\n",
              "      <th>9998</th>\n",
              "      <td>0</td>\n",
              "      <td>1550731500</td>\n",
              "      <td>Sat Apr 18 07:05:32 PDT 2009</td>\n",
              "      <td>AmberKarley</td>\n",
              "      <td>[its, another, rainboot, day]</td>\n",
              "    </tr>\n",
              "    <tr>\n",
              "      <th>9999</th>\n",
              "      <td>0</td>\n",
              "      <td>1550731750</td>\n",
              "      <td>Sat Apr 18 07:05:35 PDT 2009</td>\n",
              "      <td>ARoadRetraveled</td>\n",
              "      <td>[i, think, there, a, problem, with, the, isp, ...</td>\n",
              "    </tr>\n",
              "  </tbody>\n",
              "</table>\n",
              "<p>10000 rows × 5 columns</p>\n",
              "</div>"
            ],
            "text/plain": [
              "      target  ...                                            comment\n",
              "0          0  ...  [is, upset, that, he, ca, update, his, faceboo...\n",
              "1          0  ...  [kenichan, i, dived, many, times, for, the, ba...\n",
              "2          0  ...  [my, whole, body, feels, itchy, and, like, its...\n",
              "3          0  ...  [nationwideclass, no, it, not, behaving, at, a...\n",
              "4          0  ...                  [kwesidei, not, the, whole, crew]\n",
              "...      ...  ...                                                ...\n",
              "9995       0  ...  [stupid, dvds, stuffing, up, the, good, bits, ...\n",
              "9996       0  ...  [no, ., only, close, friends, and, family, i, ...\n",
              "9997       0  ...  [crap, after, looking, when, i, last, tweeted,...\n",
              "9998       0  ...                      [its, another, rainboot, day]\n",
              "9999       0  ...  [i, think, there, a, problem, with, the, isp, ...\n",
              "\n",
              "[10000 rows x 5 columns]"
            ]
          },
          "metadata": {
            "tags": []
          },
          "execution_count": 90
        }
      ]
    }
  ]
}